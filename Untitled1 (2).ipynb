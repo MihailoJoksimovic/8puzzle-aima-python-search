{
 "cells": [
  {
   "cell_type": "code",
   "execution_count": 125,
   "metadata": {
    "collapsed": true
   },
   "outputs": [],
   "source": [
    "from search import *            # The Python module for search problems\n",
    "from copy import deepcopy"
   ]
  },
  {
   "cell_type": "code",
   "execution_count": 170,
   "metadata": {
    "collapsed": false
   },
   "outputs": [],
   "source": [
    "class Puzzle8Problem(Problem):\n",
    "    def __init__(self, initialState, goal):\n",
    "        self.initial = initialState\n",
    "        self.goal = goal\n",
    "        \n",
    "        if (self._validate_state(initialState) != True):\n",
    "            raise ValueError('Given state doesn\\'t appear to be valid!!!')\n",
    "        \n",
    "    def _validate_state(self, state):\n",
    "        return True\n",
    "        \n",
    "    \"Generates all possible combinations from the current position\"\n",
    "    def successor(self, state):\n",
    "        #print \"Finding successors for state: \"\n",
    "        #printPuzzle(state)\n",
    "        #print \"\"\n",
    "        \n",
    "        index = self._get_empty_tile_position(state)\n",
    "        \n",
    "        row = index[0]\n",
    "        col = index[1]\n",
    "                \n",
    "        \n",
    "        totalRows = len(state)\n",
    "        \"I'll assume that matrix is same-dimensional ...\"\n",
    "        totalCols = len(state[0])\n",
    "        \n",
    "        #print \"Tile position: (%s, %s), Matrix dimensions: (%s, %s)\" % (row,col, totalRows, totalCols)\n",
    "\n",
    "        \"Generally, empty tile can move in maximum of 4 directions.\"\n",
    "        \"I'll generate all of them and filter out the invalid ones\"\n",
    "        \n",
    "        possibleCombinations = []\n",
    "        \n",
    "        \"### Move to the left: \"\n",
    "        \"Tile can be moved to the left if it isn't on the first column\"\n",
    "        if col > 0:\n",
    "            new_list = deepcopy(state)\n",
    "            \n",
    "            switchIndex = col - 1;\n",
    "                        \n",
    "            tileForSwitch = new_list[row][switchIndex]\n",
    "            \n",
    "            new_list[row][switchIndex] = 0\n",
    "            new_list[row][col] = tileForSwitch\n",
    "            \n",
    "            possibleCombinations.append(('L', new_list))\n",
    "        \n",
    "        \"### Move to the right:\"\n",
    "        \"Tile can be moved to right if it isn't in the last column\"\n",
    "        if col < (totalCols - 1):\n",
    "            new_list = deepcopy(state)\n",
    "            \n",
    "            switchIndex = col + 1;\n",
    "                        \n",
    "            tileForSwitch = new_list[row][switchIndex]\n",
    "            \n",
    "            new_list[row][switchIndex] = 0\n",
    "            new_list[row][col] = tileForSwitch\n",
    "            \n",
    "            possibleCombinations.append(('R', new_list))\n",
    "            \n",
    "        \"### Move up:\"\n",
    "        if row != 0:\n",
    "            new_list = deepcopy(state)\n",
    "            \n",
    "            switchIndex = row - 1;\n",
    "            \n",
    "            tileForSwitch = new_list[switchIndex][col]\n",
    "            \n",
    "            new_list[switchIndex][col] = 0\n",
    "            new_list[row][col] = tileForSwitch\n",
    "            \n",
    "            possibleCombinations.append(('U', new_list))\n",
    "            \n",
    "        \"### Move down:\"\n",
    "        if row < totalRows - 1:\n",
    "            new_list = deepcopy(state)\n",
    "            \n",
    "            switchIndex = row + 1;\n",
    "            \n",
    "            tileForSwitch = new_list[switchIndex][col]\n",
    "            \n",
    "            new_list[switchIndex][col] = 0\n",
    "            new_list[row][col] = tileForSwitch\n",
    "            \n",
    "            possibleCombinations.append(('D', new_list))\n",
    "        \n",
    "        \n",
    "        return possibleCombinations\n",
    "        \n",
    "        \n",
    "        \n",
    "        \n",
    "    def _get_empty_tile_position(self, state):\n",
    "        rowNum = 0;\n",
    "        \n",
    "        for row in state:            \n",
    "            if 0 in row:\n",
    "                return (rowNum, row.index(0))\n",
    "            \n",
    "            rowNum += 1\n",
    "            \n",
    "        return rowNum\n",
    "            \n",
    "    "
   ]
  },
  {
   "cell_type": "code",
   "execution_count": null,
   "metadata": {
    "collapsed": false
   },
   "outputs": [],
   "source": []
  },
  {
   "cell_type": "code",
   "execution_count": 5,
   "metadata": {
    "collapsed": false
   },
   "outputs": [
    {
     "data": {
      "text/plain": [
       "<class __main__.Puzzle8Problem at 0x7f9eb11b2600>"
      ]
     },
     "execution_count": 5,
     "metadata": {},
     "output_type": "execute_result"
    }
   ],
   "source": [
    "p"
   ]
  },
  {
   "cell_type": "code",
   "execution_count": 117,
   "metadata": {
    "collapsed": false
   },
   "outputs": [],
   "source": []
  },
  {
   "cell_type": "code",
   "execution_count": 22,
   "metadata": {
    "collapsed": false
   },
   "outputs": [],
   "source": [
    "def printPuzzle(state):\n",
    "    for row in state:\n",
    "        for col in row:\n",
    "            print \"%s \" % (col if col > 0 else \" \"),\n",
    "        print \"\"\n",
    "            "
   ]
  },
  {
   "cell_type": "code",
   "execution_count": null,
   "metadata": {
    "collapsed": false,
    "scrolled": true
   },
   "outputs": [],
   "source": [
    "printPuzzle(initialState)"
   ]
  },
  {
   "cell_type": "code",
   "execution_count": 174,
   "metadata": {
    "collapsed": false
   },
   "outputs": [],
   "source": [
    "initialState = [ [ 1, 0, 2 ], [ 3, 4, 5 ], [ 6, 7, 8 ] ]\n",
    "goalState = [ [ 0, 1, 2 ], [ 3, 4, 5 ], [ 6, 7, 8]]\n",
    "\n",
    "p = Puzzle8Problem(initialState, goalState)\n",
    "\n",
    "p.successor(initialState)\n",
    "\n",
    "solution = breadth_first_tree_search(p)\n",
    "\n",
    "    "
   ]
  },
  {
   "cell_type": "code",
   "execution_count": 178,
   "metadata": {
    "collapsed": false
   },
   "outputs": [
    {
     "data": {
      "text/plain": [
       "[<Node [[0, 1, 2], [3, 4, 5], [6, 7, 8]]>,\n",
       " <Node [[1, 0, 2], [3, 4, 5], [6, 7, 8]]>]"
      ]
     },
     "execution_count": 178,
     "metadata": {},
     "output_type": "execute_result"
    }
   ],
   "source": [
    "solution.path()\n"
   ]
  },
  {
   "cell_type": "code",
   "execution_count": 161,
   "metadata": {
    "collapsed": false
   },
   "outputs": [],
   "source": [
    "path = bf.path()\n",
    "\n",
    "path.reverse()\n",
    "\n",
    "\n"
   ]
  },
  {
   "cell_type": "code",
   "execution_count": 162,
   "metadata": {
    "collapsed": false
   },
   "outputs": [
    {
     "name": "stdout",
     "output_type": "stream",
     "text": [
      "[<Node [[1, 0, 2], [3, 4, 5], [6, 7, 8]]>, <Node [[0, 1, 2], [3, 4, 5], [6, 7, 8]]>]\n"
     ]
    }
   ],
   "source": [
    "print path\n"
   ]
  },
  {
   "cell_type": "code",
   "execution_count": 53,
   "metadata": {
    "collapsed": false
   },
   "outputs": [
    {
     "data": {
      "text/plain": [
       "0"
      ]
     },
     "execution_count": 53,
     "metadata": {},
     "output_type": "execute_result"
    }
   ],
   "source": [
    "a.index(\"mixa\")"
   ]
  },
  {
   "cell_type": "code",
   "execution_count": 63,
   "metadata": {
    "collapsed": false
   },
   "outputs": [
    {
     "data": {
      "text/plain": [
       "0"
      ]
     },
     "execution_count": 63,
     "metadata": {},
     "output_type": "execute_result"
    }
   ],
   "source": [
    "len([])"
   ]
  },
  {
   "cell_type": "code",
   "execution_count": null,
   "metadata": {
    "collapsed": true
   },
   "outputs": [],
   "source": []
  }
 ],
 "metadata": {
  "kernelspec": {
   "display_name": "Python 2",
   "language": "python",
   "name": "python2"
  },
  "language_info": {
   "codemirror_mode": {
    "name": "ipython",
    "version": 2
   },
   "file_extension": ".py",
   "mimetype": "text/x-python",
   "name": "python",
   "nbconvert_exporter": "python",
   "pygments_lexer": "ipython2",
   "version": "2.7.10"
  }
 },
 "nbformat": 4,
 "nbformat_minor": 0
}
